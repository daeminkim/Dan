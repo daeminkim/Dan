{
 "cells": [
  {
   "cell_type": "markdown",
   "metadata": {},
   "source": [
    "## 1번 \n",
    "-https://programmers.co.kr/learn/courses/30/lessons/12945\n",
    "- 피보나치 수열\n",
    "-"
   ]
  },
  {
   "cell_type": "code",
   "execution_count": null,
   "metadata": {},
   "outputs": [],
   "source": [
    "# 재귀를 활용한 피보나치 수열\n",
    "#재귀를 사용하게 되면 함수 호출을 계속하게 되서 시간이 오래 걸린다.\n",
    "#ex) F(40) 을 구하기 위해서 39,38을 알아야하고 이것을위해 37,38/36,37 그리고 이것을 위해 35,36/36,37/34,35/35,36 이런식으로 계산햇던 것을\n",
    "# 계속 또 계산하고 구하고 해야해서 숫자가 커진다면 계속 많아진다 2**n 만큼\n",
    "def solution(num):\n",
    "    a,b = 0,1\n",
    "    for i in range(num):\n",
    "        a,b = b,a+b\n",
    "    return a"
   ]
  },
  {
   "cell_type": "code",
   "execution_count": 1,
   "metadata": {},
   "outputs": [],
   "source": [
    "# 재귀를 이용한 피보나치 \n",
    "def fibonacci(n):\n",
    "    if n <= 1:\n",
    "        return n\n",
    "    return fibonacci(n-1) + fibonacci(n-2)\n"
   ]
  },
  {
   "cell_type": "code",
   "execution_count": 6,
   "metadata": {},
   "outputs": [
    {
     "data": {
      "text/plain": [
       "3"
      ]
     },
     "execution_count": 6,
     "metadata": {},
     "output_type": "execute_result"
    }
   ],
   "source": [
    "fibonacci(4)"
   ]
  },
  {
   "cell_type": "code",
   "execution_count": 8,
   "metadata": {},
   "outputs": [
    {
     "name": "stdout",
     "output_type": "stream",
     "text": [
      "100\n",
      "354224848179261915075\n"
     ]
    }
   ],
   "source": [
    "#동적프로그래밍\n",
    "n = int(input())\n",
    "f = [0] * (n + 1)                       # n + 1 만큼 리스트 생성\n",
    "def pibo(n):\n",
    "    if(f[n]) != 0:                      # f안에 값이 존재한다면\n",
    "        return f[n]                     # 재귀함수를 거치지 않고 그대로 출력\n",
    "\n",
    "    if n < 2: \n",
    "        f[n] = n\n",
    "        return f[n]\n",
    "    else: f[n] = pibo(n-1) + pibo(n-2)  # f[n]에 저장\n",
    "    return f[n]\n",
    "print(pibo(n))"
   ]
  },
  {
   "cell_type": "code",
   "execution_count": null,
   "metadata": {},
   "outputs": [],
   "source": []
  }
 ],
 "metadata": {
  "kernelspec": {
   "display_name": "Python 3",
   "language": "python",
   "name": "python3"
  },
  "language_info": {
   "codemirror_mode": {
    "name": "ipython",
    "version": 3
   },
   "file_extension": ".py",
   "mimetype": "text/x-python",
   "name": "python",
   "nbconvert_exporter": "python",
   "pygments_lexer": "ipython3",
   "version": "3.8.5"
  }
 },
 "nbformat": 4,
 "nbformat_minor": 4
}
