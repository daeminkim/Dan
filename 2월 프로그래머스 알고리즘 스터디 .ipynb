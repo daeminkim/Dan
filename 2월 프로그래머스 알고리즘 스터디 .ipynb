{
 "cells": [
  {
   "cell_type": "markdown",
   "metadata": {},
   "source": [
    "## 1번 \n",
    "-https://programmers.co.kr/learn/courses/30/lessons/12945\n",
    "- 피보나치 수열\n",
    "-"
   ]
  },
  {
   "cell_type": "code",
   "execution_count": null,
   "metadata": {},
   "outputs": [],
   "source": [
    "# 재귀를 활용한 피보나치 수열\n",
    "#재귀를 사용하게 되면 함수 호출을 계속하게 되서 시간이 오래 걸린다.\n",
    "#ex) F(40) 을 구하기 위해서 39,38을 알아야하고 이것을위해 37,38/36,37 그리고 이것을 위해 35,36/36,37/34,35/35,36 이런식으로 계산햇던 것을\n",
    "# 계속 또 계산하고 구하고 해야해서 숫자가 커진다면 계속 많아진다 2**n 만큼\n",
    "def solution(num):\n",
    "    a,b = 0,1\n",
    "    for i in range(num):\n",
    "        a,b = b,a+b\n",
    "    return a"
   ]
  },
  {
   "cell_type": "code",
   "execution_count": 1,
   "metadata": {},
   "outputs": [],
   "source": [
    "# 재귀를 이용한 피보나치 \n",
    "def fibonacci(n):\n",
    "    if n <= 1:\n",
    "        return n\n",
    "    return fibonacci(n-1) + fibonacci(n-2)\n"
   ]
  },
  {
   "cell_type": "code",
   "execution_count": 6,
   "metadata": {},
   "outputs": [
    {
     "data": {
      "text/plain": [
       "3"
      ]
     },
     "execution_count": 6,
     "metadata": {},
     "output_type": "execute_result"
    }
   ],
   "source": [
    "fibonacci(4)"
   ]
  },
  {
   "cell_type": "code",
   "execution_count": 8,
   "metadata": {},
   "outputs": [
    {
     "name": "stdout",
     "output_type": "stream",
     "text": [
      "100\n",
      "354224848179261915075\n"
     ]
    }
   ],
   "source": [
    "#동적프로그래밍\n",
    "n = int(input())\n",
    "f = [0] * (n + 1)                       # n + 1 만큼 리스트 생성\n",
    "def pibo(n):\n",
    "    if(f[n]) != 0:                      # f안에 값이 존재한다면\n",
    "        return f[n]                     # 재귀함수를 거치지 않고 그대로 출력\n",
    "\n",
    "    if n < 2: \n",
    "        f[n] = n\n",
    "        return f[n]\n",
    "    else: f[n] = pibo(n-1) + pibo(n-2)  # f[n]에 저장\n",
    "    return f[n]\n",
    "print(pibo(n))"
   ]
  },
  {
   "cell_type": "markdown",
   "metadata": {},
   "source": [
    "# 2  숫자의 표현\n",
    "- https://programmers.co.kr/learn/courses/30/lessons/12924\n",
    "\n",
    "문제 설명\n",
    "Finn은 요즘 수학공부에 빠져 있습니다. 수학 공부를 하던 Finn은 자연수 n을 연속한 자연수들로 표현 하는 방법이 여러개라는 사실을 알게 되었습니다. \n",
    "예를들어 15는 다음과 같이 4가지로 표현 할 수 있습니다.\n",
    "\n",
    "1 + 2 + 3 + 4 + 5 = 15\n",
    "4 + 5 + 6 = 15\n",
    "7 + 8 = 15\n",
    "15 = 15\n",
    "자연수 n이 매개변수로 주어질 때, 연속된 자연수들로 n을 표현하는 방법의 수를 return하는 solution를 완성해주세요.\n"
   ]
  },
  {
   "cell_type": "code",
   "execution_count": 28,
   "metadata": {},
   "outputs": [],
   "source": [
    "def solution(n):\n",
    "    answer=0\n",
    "    for i in range(1,n//2+2):  # 연속되는 숫자의 합 이기때문에 최소 2개의 숫자가 필요하고 그렇다면 /2 를 한 몫에서 +1까지 그이상은 답이 될 수없다.\n",
    "        s=0                    #그래서 //2 몫에 +2를 했다.\n",
    "                                # 반복문이 2개인 이유는 1부터 더할때 2부터 더할때 3부터... 쭉가야되기 때문이다.\n",
    "        for j in range(i,n//2+2) # 그리고 이제 부턴 1부터 반복문 을 돌려서 그다음숫자들을 더하는 반복문을 만들었다\n",
    "            s+=j                  \n",
    "            if s==n:            # 계속 더해서 n과 같아지면 count 했고 아니면 반복문을 멈췄다.\n",
    "                answer+=1\n",
    "            elif s>n:\n",
    "                break\n",
    "    return answer+1              # +1 을 한 이유는 자기 자신도 있기 때문이다."
   ]
  },
  {
   "cell_type": "code",
   "execution_count": 30,
   "metadata": {},
   "outputs": [
    {
     "data": {
      "text/plain": [
       "4"
      ]
     },
     "execution_count": 30,
     "metadata": {},
     "output_type": "execute_result"
    }
   ],
   "source": [
    "solution(15)"
   ]
  },
  {
   "cell_type": "markdown",
   "metadata": {},
   "source": [
    "# 3 최소 공배수 \n",
    "\n",
    "- https://programmers.co.kr/learn/courses/30/lessons/12953\n",
    "\n",
    "- 문제 설명\n",
    "   두 수의 최소공배수(Least Common Multiple)란 입력된 두 수의 배수 중 공통이 되는 가장 작은 숫자를 의미합니다. \n",
    "   예를 들어 2와 7의 최소공배수는 14가 됩니다. 정의를 확장해서, n개의 수의 최소공배수는 n 개의 수들의 배수 중 공통이 되는 가장 작은 숫자가 됩니다. \n",
    "    n개의 숫자를 담은 배열 arr이 입력되었을 때 이 수들의 최소공배수를 반환하는 함수, solution을 완성해 주세요.\n",
    "\n",
    "- 제한 사항\n",
    "    arr은 길이 1이상, 15이하인 배열입니다.\n",
    "    arr의 원소는 100 이하인 자연수입니다.\n",
    "    \n",
    "    *나의 로직\n",
    "      1. arr 중에 가장큰수를 구한다.\n",
    "      2. arr 원소 모든것이 max와 나눠서 떨어지는지 확인한다.\n",
    "      3. 나눠서 떨어진다면  max가 최소공배수 이고,\n",
    "         나눠서 떨어지지 않는다면  max에 +1씩 하면서 반복문을 돌린다."
   ]
  },
  {
   "cell_type": "code",
   "execution_count": 39,
   "metadata": {},
   "outputs": [],
   "source": [
    "def solution(n):\n",
    "    ma=max(n)             # 가장큰수 \n",
    "    while True:\n",
    "        c=0              # 나눠떨어진 원소 개수를 구해서 n의 원소 개수와 비교하여 같으면 모든 수가 나눠졌으니 최대 공약수 이다.\n",
    "        for i in n:      # 모든 원소로 나누기 위한 반복문\n",
    "            if ma % i ==0:  #나눠떨어졌으면 c+1 해서 개수 count\n",
    "                c+=1\n",
    "            else:           # 약수가 아니면 for 문을 break 한다.\n",
    "                break\n",
    "        if c == len(n):     # for 문을 마치고 c 의 개수와 n 의 원소 개수가 같은지 확인한다.\n",
    "            break            # 같으면 break 하고  ma를 리턴한다.\n",
    "        ma+=1                #  c != len(n) 이같지 않다면 max값에 1씩 더해서 while문을 반복한다.\n",
    "    return ma"
   ]
  },
  {
   "cell_type": "code",
   "execution_count": 40,
   "metadata": {},
   "outputs": [
    {
     "data": {
      "text/plain": [
       "6"
      ]
     },
     "execution_count": 40,
     "metadata": {},
     "output_type": "execute_result"
    }
   ],
   "source": [
    "solution([1,2,3])"
   ]
  },
  {
   "cell_type": "code",
   "execution_count": 35,
   "metadata": {},
   "outputs": [],
   "source": [
    "from math import gcd"
   ]
  },
  {
   "cell_type": "code",
   "execution_count": 36,
   "metadata": {},
   "outputs": [],
   "source": []
  },
  {
   "cell_type": "code",
   "execution_count": 38,
   "metadata": {},
   "outputs": [
    {
     "data": {
      "text/plain": [
       "2"
      ]
     },
     "execution_count": 38,
     "metadata": {},
     "output_type": "execute_result"
    }
   ],
   "source": [
    "gcd(2,4)"
   ]
  },
  {
   "cell_type": "markdown",
   "metadata": {},
   "source": [
    "## 4. 최댓값과 최솟값"
   ]
  },
  {
   "cell_type": "code",
   "execution_count": null,
   "metadata": {},
   "outputs": [],
   "source": [
    "def solution(s):\n",
    "    answer = ''\n",
    "    s = list(map(int, s.split(' ')))\n",
    "    return '{} {}'.format(min(s), max(s))"
   ]
  },
  {
   "cell_type": "code",
   "execution_count": 45,
   "metadata": {},
   "outputs": [],
   "source": [
    "def solution(s):\n",
    "    s = list(map(int,s.split(\" \")))\n",
    "    return f'{min(s)}{max(s)}'  # 주피터에서 실행이 안되지만 프로그래머스에서 실행된다."
   ]
  },
  {
   "cell_type": "code",
   "execution_count": null,
   "metadata": {},
   "outputs": [],
   "source": []
  },
  {
   "cell_type": "markdown",
   "metadata": {},
   "source": [
    "## 5. 최솟값 만들기 \n",
    "- https://programmers.co.kr/learn/courses/30/lessons/12941"
   ]
  },
  {
   "cell_type": "code",
   "execution_count": 75,
   "metadata": {},
   "outputs": [
    {
     "data": {
      "text/plain": [
       "24"
      ]
     },
     "execution_count": 75,
     "metadata": {},
     "output_type": "execute_result"
    }
   ],
   "source": [
    "l.pop()*c.pop()"
   ]
  },
  {
   "cell_type": "code",
   "execution_count": 82,
   "metadata": {},
   "outputs": [],
   "source": [
    "l=[1,7,5,4,]\n",
    "c=[3,4]"
   ]
  },
  {
   "cell_type": "code",
   "execution_count": 83,
   "metadata": {},
   "outputs": [
    {
     "data": {
      "text/plain": [
       "[7, 5, 4, 1]"
      ]
     },
     "execution_count": 83,
     "metadata": {},
     "output_type": "execute_result"
    }
   ],
   "source": [
    "l.sort(reverse = True)\n",
    "l"
   ]
  },
  {
   "cell_type": "code",
   "execution_count": 96,
   "metadata": {},
   "outputs": [],
   "source": [
    "# 나의 풀이   :앞배열의 가장작은수 뒷배열의 가장큰수를 곱하면되서 오름차순, 내림차순으로 정렬후 계산\n",
    "def solution(A,B):\n",
    "    answer = 0\n",
    "    A= sorted(A)\n",
    "    B= sorted(B, reverse = True)\n",
    "    print(A)\n",
    "    print(B)\n",
    "    for A,B in zip(A,B): # zip을 통해서 같은 인덱스의 값을 묶어 반환 하는것을 두개의 변수에 받아서 곱한다.\n",
    "        answer+=A*B\n",
    "    print(answer)"
   ]
  },
  {
   "cell_type": "code",
   "execution_count": 98,
   "metadata": {},
   "outputs": [
    {
     "name": "stdout",
     "output_type": "stream",
     "text": [
      "[2, 4]\n",
      "[6, 4]\n",
      "28\n"
     ]
    }
   ],
   "source": [
    "solution([4,2],[6,4])"
   ]
  },
  {
   "cell_type": "code",
   "execution_count": null,
   "metadata": {},
   "outputs": [],
   "source": [
    "# 다른사람 풀이 \n",
    "def getMinSum(A,B):\n",
    "    return sum(a*b for a, b in zip(sorted(A), sorted(B, reverse = True)))"
   ]
  },
  {
   "cell_type": "markdown",
   "metadata": {},
   "source": [
    "## 6.카펫\n",
    "- https://programmers.co.kr/learn/courses/30/lessons/42842"
   ]
  },
  {
   "cell_type": "code",
   "execution_count": null,
   "metadata": {},
   "outputs": [],
   "source": [
    "brown\tyellow\treturn\n",
    "10\t2\t[4, 3]\n",
    "8\t1\t[3, 3]\n",
    "24\t24\t[8, 6]"
   ]
  },
  {
   "cell_type": "code",
   "execution_count": null,
   "metadata": {},
   "outputs": [],
   "source": [
    "#갈색 더하기 노란색 을 루트 씌ㅣ운것 = 세로\n",
    "#갈색 더하기 노란색을 세로값으로 나눈값 = 가로"
   ]
  },
  {
   "cell_type": "code",
   "execution_count": 112,
   "metadata": {},
   "outputs": [],
   "source": [
    "# 내가 풀었던 것 ---> brown 과 yellow가 숫자가 커질 수록 오차 범위가 커져서 **0.5 한것이 의미가 없어짐..\n",
    "def solution(brown, yellow):\n",
    "    answer=[]\n",
    "    by = brown+yellow\n",
    "    v = int (by**0.5)\n",
    "    h = by// v\n",
    "    answer.append(h)\n",
    "    answer.append(v)\n",
    "    return answer"
   ]
  },
  {
   "cell_type": "code",
   "execution_count": 113,
   "metadata": {},
   "outputs": [
    {
     "data": {
      "text/plain": [
       "[10, 10]"
      ]
     },
     "execution_count": 113,
     "metadata": {},
     "output_type": "execute_result"
    }
   ],
   "source": [
    "solution(7,100)"
   ]
  },
  {
   "cell_type": "code",
   "execution_count": 114,
   "metadata": {},
   "outputs": [
    {
     "data": {
      "text/plain": [
       "10.344080432788601"
      ]
     },
     "execution_count": 114,
     "metadata": {},
     "output_type": "execute_result"
    }
   ],
   "source": [
    "107**0.5"
   ]
  },
  {
   "cell_type": "markdown",
   "metadata": {},
   "source": [
    "### 통과된 풀이"
   ]
  },
  {
   "cell_type": "code",
   "execution_count": null,
   "metadata": {},
   "outputs": [],
   "source": [
    "\n",
    "def solution(brown,yellow) : \n",
    "    s = brown + yellow          # 전체 칸수를 계산한다.\n",
    "    for i in range(s,2,-1) :    # 가로를 구하는 식 : 큰 수(s) 부터 3(노란색이 1개 일때 가로는 최소 3이니까)까지 반복문\n",
    "        if s % i == 0 :         # 가로가 무조건 더길거나 세로와 같으니까 //나눠서 떨어지면 i 가 가로이다.\n",
    "            a = s // i          # 몫은 세로 \n",
    "            if yellow == (i-2)*(a-2) :  #갈색은 가로세로가 2개씩 늘어나니까(그림그려보면 앎)각각빼서 곱한게 yellow와 같다면 끝!\n",
    "                return [i,a]"
   ]
  },
  {
   "cell_type": "code",
   "execution_count": null,
   "metadata": {},
   "outputs": [],
   "source": []
  },
  {
   "cell_type": "code",
   "execution_count": null,
   "metadata": {},
   "outputs": [],
   "source": []
  },
  {
   "cell_type": "code",
   "execution_count": null,
   "metadata": {},
   "outputs": [],
   "source": []
  },
  {
   "cell_type": "code",
   "execution_count": null,
   "metadata": {},
   "outputs": [],
   "source": []
  },
  {
   "cell_type": "code",
   "execution_count": null,
   "metadata": {},
   "outputs": [],
   "source": []
  },
  {
   "cell_type": "code",
   "execution_count": null,
   "metadata": {},
   "outputs": [],
   "source": []
  }
 ],
 "metadata": {
  "kernelspec": {
   "display_name": "Python 3",
   "language": "python",
   "name": "python3"
  },
  "language_info": {
   "codemirror_mode": {
    "name": "ipython",
    "version": 3
   },
   "file_extension": ".py",
   "mimetype": "text/x-python",
   "name": "python",
   "nbconvert_exporter": "python",
   "pygments_lexer": "ipython3",
   "version": "3.8.5"
  }
 },
 "nbformat": 4,
 "nbformat_minor": 4
}
