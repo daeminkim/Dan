{
 "cells": [
  {
   "cell_type": "markdown",
   "metadata": {},
   "source": [
    "##### 백준 사칙 연산 11번 세자리수 곱셈\n"
   ]
  },
  {
   "cell_type": "code",
   "execution_count": null,
   "metadata": {},
   "outputs": [],
   "source": [
    "472\n",
    "385"
   ]
  },
  {
   "cell_type": "code",
   "execution_count": 6,
   "metadata": {},
   "outputs": [
    {
     "name": "stdout",
     "output_type": "stream",
     "text": [
      "472\n",
      "385\n",
      "2360\n",
      "3776\n",
      "1416\n"
     ]
    }
   ],
   "source": [
    "# point 각각 의 숫자를 뽑아 낼 수 있는방법을 생각해야한다.\n",
    "# 헤맸던 이유: 각각의 숫자를 뽑아서 곱한 값 십의자리 백의자리까지 나오게 하려고 곱하기 10,100 을 했었다. 문제를 제대로 파악해야한다.\n",
    "# 다른 사람들 어떻게 풀었는지 물어보기\n",
    "a=int(input())\n",
    "b=int(input())\n",
    "\n",
    "print(a*(b%10))\n",
    "print(a*((b%100)//10))\n",
    "print(a*(b//100))\n",
    "print(a*b)    "
   ]
  },
  {
   "cell_type": "code",
   "execution_count": null,
   "metadata": {},
   "outputs": [],
   "source": [
    "2360\n",
    "3776\n",
    "1416\n",
    "181720"
   ]
  },
  {
   "cell_type": "markdown",
   "metadata": {},
   "source": [
    "## 2단계 if"
   ]
  },
  {
   "cell_type": "code",
   "execution_count": null,
   "metadata": {},
   "outputs": [],
   "source": [
    "첫째 줄에 다음 세 가지 중 하나를 출력한다.\n",
    "\n",
    "A가 B보다 큰 경우에는 '>'를 출력한다.\n",
    "A가 B보다 작은 경우에는 '<'를 출력한다.\n",
    "A와 B가 같은 경우에는 '=='를 출력한다."
   ]
  },
  {
   "cell_type": "code",
   "execution_count": 2,
   "metadata": {},
   "outputs": [
    {
     "name": "stdout",
     "output_type": "stream",
     "text": [
      "1 4\n",
      "<\n"
     ]
    }
   ],
   "source": [
    "# 1번\n",
    "k=input().split(\" \")\n",
    "a = int(k[0])\n",
    "b = int(k[1])\n",
    "\n",
    "if a>b:\n",
    "    print('>')\n",
    "elif a<b:\n",
    "    print('<')\n",
    "elif a==b:\n",
    "    print('==')"
   ]
  },
  {
   "cell_type": "code",
   "execution_count": null,
   "metadata": {},
   "outputs": [],
   "source": [
    "#2번 \n",
    "시험 점수를 입력받아 90 ~ 100점은 A, 80 ~ 89점은 B, 70 ~ 79점은 C, 60 ~ 69점은 D, 나머지 점수는 F를 출력하는 프로그램을 작성하시오."
   ]
  },
  {
   "cell_type": "code",
   "execution_count": 7,
   "metadata": {},
   "outputs": [
    {
     "name": "stdout",
     "output_type": "stream",
     "text": [
      "78\n",
      "C\n"
     ]
    }
   ],
   "source": [
    "k= int(input())\n",
    "\n",
    "if k>=90:\n",
    "    print('A')\n",
    "elif k >= 80:\n",
    "    print('B')\n",
    "elif k >=70:\n",
    "    print('C')\n",
    "elif k>=60:\n",
    "    print('D')\n",
    "else:\n",
    "    print(\"F\")\n"
   ]
  },
  {
   "cell_type": "code",
   "execution_count": null,
   "metadata": {},
   "outputs": [],
   "source": [
    "#3번\n",
    "https://www.acmicpc.net/problem/2753\n",
    "\n",
    "연도가 주어졌을 때, 윤년이면 1, 아니면 0을 출력하는 프로그램을 작성하시오.\n",
    "\n",
    "윤년은 연도가 4의 배수이면서, 100의 배수가 아닐 때 또는 400의 배수일 때이다.\n",
    "\n",
    "예를 들어, 2012년은 4의 배수이면서 100의 배수가 아니라서 윤년이다. \n",
    "1900년은 100의 배수이고 400의 배수는 아니기 때문에 윤년이 아니다. 하지만, 2000년은 400의 배수이기 때문에 윤년이다.\n",
    "첫째 줄에 윤년이면 1, 아니면 0을 출력한다."
   ]
  },
  {
   "cell_type": "code",
   "execution_count": 10,
   "metadata": {},
   "outputs": [
    {
     "name": "stdout",
     "output_type": "stream",
     "text": [
      "1999\n",
      "0\n"
     ]
    }
   ],
   "source": [
    "k = int(input())\n",
    "if k%4==0 and (k%100!=0 or k%400 ==0):\n",
    "    print(1)\n",
    "else:\n",
    "    print(0)"
   ]
  },
  {
   "cell_type": "code",
   "execution_count": null,
   "metadata": {},
   "outputs": [],
   "source": [
    "4번\n",
    "https://www.acmicpc.net/problem/14681\n",
    "흔한 수학 문제 중 하나는 주어진 점이 어느 사분면에 속하는지 알아내는 것이다. \n",
    "사분면은 아래 그림처럼 1부터 4까지 번호를 갖는다. \"Quadrant n\"은 \"제n사분면\"이라는 뜻이다.\n",
    "\n",
    "예를 들어, 좌표가 (12, 5)인 점 A는 x좌표와 y좌표가 모두 양수이므로 제1사분면에 속한다.\n",
    "점 B는 x좌표가 음수이고 y좌표가 양수이므로 제2사분면에 속한다.\n",
    "점의 좌표를 입력받아 그 점이 어느 사분면에 속하는지 알아내는 프로그램을 작성하시오. 단, x좌표와 y좌표는 모두 양수나 음수라고 가정한다."
   ]
  },
  {
   "cell_type": "code",
   "execution_count": 16,
   "metadata": {},
   "outputs": [
    {
     "name": "stdout",
     "output_type": "stream",
     "text": [
      "2\n",
      "3\n",
      "1\n"
     ]
    }
   ],
   "source": [
    "x= int(input())\n",
    "y= int(input())\n",
    "\n",
    "if x>0 and y>0:\n",
    "    print(1)\n",
    "elif x<0 and y>0:\n",
    "    print(2)\n",
    "elif x<0 and y<0:\n",
    "    print(3)\n",
    "elif x>0 and y<0:\n",
    "    print(4)"
   ]
  },
  {
   "cell_type": "code",
   "execution_count": null,
   "metadata": {},
   "outputs": [],
   "source": [
    "5번\n",
    "https://www.acmicpc.net/problem/2884\n",
    "\n",
    "현재 상근이가 설정한 알람 시각이 주어졌을 때, 창영이의 방법을 사용한다면, 이를 언제로 고쳐야 하는지 구하는 프로그램을 작성하시오.\n",
    "첫째 줄에 두 정수 H와 M이 주어진다. \n",
    "(0 ≤ H ≤ 23, 0 ≤ M ≤ 59) 그리고 이것은 현재 상근이가 설정한 놓은 알람 시간 H시 M분을 의미한다.\n",
    "\n",
    "입력 시간은 24시간 표현을 사용한다. 24시간 표현에서 하루의 시작은 0:0(자정)이고, 끝은 23:59(다음날 자정 1분 전)이다. \n",
    "시간을 나타낼 때, 불필요한 0은 사용하지 않는다\n",
    "\n",
    "첫째 줄에 상근이가 창영이의 방법을 사용할 때, 설정해야 하는 알람 시간을 출력한다. (입력과 같은 형태로 출력하면 된다.)"
   ]
  },
  {
   "cell_type": "code",
   "execution_count": null,
   "metadata": {},
   "outputs": [],
   "source": [
    "접근 1 : 0 ≤ H ≤ 23 원소 23개// 인덱스 번호 0~23 //0 ≤ M ≤ 59 원소 60개// 인덱스 번호 0~59  (틀렸다\n",
    "접근 2: H에 60 곱하고 H+M을 하고 45를 뺀후에 그값을 60으로 나누고 몫은 H, 나머지는 M을 만들었다// H가 0일때 24로 계산하기로하고 작성해보자"
   ]
  },
  {
   "cell_type": "code",
   "execution_count": 32,
   "metadata": {},
   "outputs": [
    {
     "name": "stdout",
     "output_type": "stream",
     "text": [
      "0 0\n",
      "23 15\n"
     ]
    }
   ],
   "source": [
    "H,M=input().split(\" \")\n",
    "\n",
    "h=int(H)\n",
    "m=int(M)\n",
    "\n",
    "\n",
    "if h == 0:\n",
    "    h=24*60\n",
    "    k=h+m-45\n",
    "    H=k//60\n",
    "    M=k%60\n",
    "    print(str(H)+' '+str(M))\n",
    "elif h!=0:\n",
    "    i=(h*60+m)-45\n",
    "    H=i//60\n",
    "    M=i%60\n",
    "    print(str(H)+' '+str(M))        ## 뭐가 틀렸는지 모르겠음 무슨 시간을 넣어도 맞게 나오는데 왜틀렸는지 모르겠다."
   ]
  },
  {
   "cell_type": "code",
   "execution_count": 31,
   "metadata": {},
   "outputs": [
    {
     "name": "stdout",
     "output_type": "stream",
     "text": [
      "0 30\n",
      "23 45\n"
     ]
    }
   ],
   "source": [
    "H,M=input().split(\" \")\n",
    "\n",
    "h=int(H)\n",
    "m=int(M)\n",
    "\n",
    "m-=45   # 45분 일찍이라고 했으니 뺄셈을 해준다 // 분이 음수가 되지 않는다면 그냥 m에서 45만 빼서 print하면 된다.\n",
    "if m < 0:   #뺀 값이 음수가 나오면 +60을 해서 분을 맞추고 시에서 -1을한다.\n",
    "    m +=60\n",
    "    h-=1\n",
    "    if h < 0:  #h가 0일때는 24시이고 거기서 -1을 하면 23이된다. 분이 아무리커도 시(h)에서 1이상을 뺄수 없수없기때문이다.\n",
    "        h=23\n",
    "print(str(h)+' '+str(m))\n"
   ]
  },
  {
   "cell_type": "code",
   "execution_count": null,
   "metadata": {},
   "outputs": [],
   "source": []
  },
  {
   "cell_type": "code",
   "execution_count": null,
   "metadata": {},
   "outputs": [],
   "source": []
  },
  {
   "cell_type": "code",
   "execution_count": null,
   "metadata": {},
   "outputs": [],
   "source": []
  },
  {
   "cell_type": "code",
   "execution_count": null,
   "metadata": {},
   "outputs": [],
   "source": []
  },
  {
   "cell_type": "code",
   "execution_count": null,
   "metadata": {},
   "outputs": [],
   "source": []
  },
  {
   "cell_type": "code",
   "execution_count": null,
   "metadata": {},
   "outputs": [],
   "source": []
  },
  {
   "cell_type": "code",
   "execution_count": null,
   "metadata": {},
   "outputs": [],
   "source": []
  },
  {
   "cell_type": "code",
   "execution_count": null,
   "metadata": {},
   "outputs": [],
   "source": []
  }
 ],
 "metadata": {
  "kernelspec": {
   "display_name": "Python 3",
   "language": "python",
   "name": "python3"
  },
  "language_info": {
   "codemirror_mode": {
    "name": "ipython",
    "version": 3
   },
   "file_extension": ".py",
   "mimetype": "text/x-python",
   "name": "python",
   "nbconvert_exporter": "python",
   "pygments_lexer": "ipython3",
   "version": "3.8.5"
  }
 },
 "nbformat": 4,
 "nbformat_minor": 4
}
