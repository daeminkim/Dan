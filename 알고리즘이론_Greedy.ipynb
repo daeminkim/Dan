{
 "cells": [
  {
   "cell_type": "markdown",
   "metadata": {},
   "source": [
    "## Greedy\n",
    "- 그리디 알고리즘(탐욕법)은 현재 상황에서 지금 당장 좋은 것만 고르는 방법."
   ]
  },
  {
   "cell_type": "code",
   "execution_count": 3,
   "metadata": {},
   "outputs": [
    {
     "name": "stdout",
     "output_type": "stream",
     "text": [
      "1260\n",
      "6\n"
     ]
    }
   ],
   "source": [
    "# 예제 문제 : 거스름 돈  p.87\n",
    "'''\n",
    "* 최적의 해를 보장하는 이유 \n",
    " - 큰 단위의 동전이 항상 작은 단위의 배수이므로 작은 단위의 동전들을 종합해 다른 해가 나올 수 없기 때문이다.\n",
    " - 만약 800원을 거슬러줄때 500,400,100 원을 갖고 있다면 400원 2개가 정답이기때문에 큰 단위부터 돈을 거슬러주는것은 맞지 않다. \n",
    " - 떠올린 아이디어가 정당한지 검토할 수 있어야 한다.\n",
    " \n",
    "''' \n",
    "\n",
    "\n",
    "n= int(input())\n",
    "\n",
    "coin =[500,100,50,10]\n",
    "count = 0\n",
    "for i in coin:\n",
    "    count += n//i\n",
    "    n = n%i\n",
    "print(count)\n",
    "\n"
   ]
  },
  {
   "cell_type": "markdown",
   "metadata": {},
   "source": [
    "### 실전문제"
   ]
  },
  {
   "cell_type": "code",
   "execution_count": 15,
   "metadata": {},
   "outputs": [
    {
     "name": "stdout",
     "output_type": "stream",
     "text": [
      "5 7 3\n",
      "3 4 3 4 3\n"
     ]
    }
   ],
   "source": [
    "# p.93 큰 수의 법칙\n",
    "# 내가 처음 생각한 로직\n",
    "n, m, k = map(int,input().split())\n",
    "num = list(map(int,input().split()))\n",
    "num.sort()\n",
    "result = 0\n",
    "\"\"\"\n",
    "- m이 k+1을 뺐을때 0 으로 떨어지면 코드가 제대로 실행되지만 안그런경우에 실행 안됨\n",
    "\n",
    "\"\"\"\n",
    "\n",
    "for _ in range(m):\n",
    "    for _ in range(k):\n",
    "        result+= num[-1]\n",
    "        m-=1\n",
    "    for _ in range(1):\n",
    "        result+= num[-2]\n",
    "        m-=-1\n",
    "    if m == 0:\n",
    "        print(result)\n",
    "        "
   ]
  },
  {
   "cell_type": "code",
   "execution_count": 23,
   "metadata": {},
   "outputs": [
    {
     "name": "stdout",
     "output_type": "stream",
     "text": [
      "5 8 3\n",
      "2 4 5 4 6\n",
      "46\n"
     ]
    }
   ],
   "source": [
    "# while 문을 쓰고 m 더하는 횟수를 감소시키면서  break 하면된다.\n",
    "n, m, k = map(int,input().split())\n",
    "num = list(map(int,input().split()))\n",
    "num.sort()\n",
    "result = 0\n",
    "\n",
    "while True:\n",
    "    if m == 0:\n",
    "        break\n",
    "    for _ in range(k):\n",
    "        if m == 0:\n",
    "            break  # 더할때 마다 m-1을 해서 횟수를 줄인다.\n",
    "        result += num[-1]\n",
    "        m-=1\n",
    "    if m==0:\n",
    "        break\n",
    "    result+=num[-2]\n",
    "    m-=1\n",
    "print(result)\n",
    "    "
   ]
  },
  {
   "cell_type": "code",
   "execution_count": null,
   "metadata": {},
   "outputs": [],
   "source": []
  },
  {
   "cell_type": "code",
   "execution_count": null,
   "metadata": {},
   "outputs": [],
   "source": []
  },
  {
   "cell_type": "code",
   "execution_count": null,
   "metadata": {},
   "outputs": [],
   "source": []
  },
  {
   "cell_type": "code",
   "execution_count": null,
   "metadata": {},
   "outputs": [],
   "source": []
  },
  {
   "cell_type": "code",
   "execution_count": null,
   "metadata": {},
   "outputs": [],
   "source": []
  },
  {
   "cell_type": "code",
   "execution_count": null,
   "metadata": {},
   "outputs": [],
   "source": []
  },
  {
   "cell_type": "code",
   "execution_count": null,
   "metadata": {},
   "outputs": [],
   "source": []
  },
  {
   "cell_type": "code",
   "execution_count": null,
   "metadata": {},
   "outputs": [],
   "source": []
  },
  {
   "cell_type": "code",
   "execution_count": null,
   "metadata": {},
   "outputs": [],
   "source": []
  },
  {
   "cell_type": "code",
   "execution_count": null,
   "metadata": {},
   "outputs": [],
   "source": []
  },
  {
   "cell_type": "code",
   "execution_count": null,
   "metadata": {},
   "outputs": [],
   "source": []
  },
  {
   "cell_type": "code",
   "execution_count": null,
   "metadata": {},
   "outputs": [],
   "source": []
  },
  {
   "cell_type": "code",
   "execution_count": null,
   "metadata": {},
   "outputs": [],
   "source": []
  },
  {
   "cell_type": "code",
   "execution_count": null,
   "metadata": {},
   "outputs": [],
   "source": []
  },
  {
   "cell_type": "code",
   "execution_count": null,
   "metadata": {},
   "outputs": [],
   "source": []
  }
 ],
 "metadata": {
  "kernelspec": {
   "display_name": "Python 3",
   "language": "python",
   "name": "python3"
  },
  "language_info": {
   "codemirror_mode": {
    "name": "ipython",
    "version": 3
   },
   "file_extension": ".py",
   "mimetype": "text/x-python",
   "name": "python",
   "nbconvert_exporter": "python",
   "pygments_lexer": "ipython3",
   "version": "3.8.5"
  }
 },
 "nbformat": 4,
 "nbformat_minor": 4
}
